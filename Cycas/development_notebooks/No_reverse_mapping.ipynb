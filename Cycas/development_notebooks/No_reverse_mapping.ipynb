{
 "cells": [
  {
   "cell_type": "markdown",
   "metadata": {},
   "source": [
    "Is rev com form biopython what we need to reverse the reads from bam files??"
   ]
  },
  {
   "cell_type": "code",
   "execution_count": 16,
   "metadata": {},
   "outputs": [],
   "source": [
    "from Bio import Seq\n",
    "from Bio import SeqIO\n",
    "from pathlib import Path"
   ]
  },
  {
   "cell_type": "code",
   "execution_count": 17,
   "metadata": {},
   "outputs": [],
   "source": [
    "input_fasta = '/home/dami/data/references/Homo_sapiens/tp53/tp53.fasta'\n",
    "tmp_out_file = Path().resolve() / 'data/tmp_fasta.fasta'"
   ]
  },
  {
   "cell_type": "code",
   "execution_count": 18,
   "metadata": {},
   "outputs": [
    {
     "name": "stdout",
     "output_type": "stream",
     "text": [
      "/home/dami/Software/Cycas/development_notebooks/data/tmp_fasta.fasta\n"
     ]
    }
   ],
   "source": [
    "print(tmp_out_file)\n",
    "tmp_out_file.parent.mkdir(parents=True, exist_ok=True)"
   ]
  },
  {
   "cell_type": "code",
   "execution_count": 19,
   "metadata": {},
   "outputs": [
    {
     "name": "stdout",
     "output_type": "stream",
     "text": [
      "ID: NG_017013.2:5001-24149\n",
      "Name: NG_017013.2:5001-24149\n",
      "Description: NG_017013.2:5001-24149 Homo sapiens tumor protein p53 (TP53), RefSeqGene (LRG_321) on chromosome 17\n",
      "Number of features: 0\n",
      "Seq('GATGGGATTGGGGTTTTCCCCTCCCATGTGCTCAAGACTGGCGCTAAAAGTTTT...GTG')\n"
     ]
    }
   ],
   "source": [
    "for seq_record in SeqIO.parse(input_fasta, \"fasta\"):\n",
    "        print(seq_record)\n",
    "        partial_seq = seq_record.seq[100:600]"
   ]
  },
  {
   "cell_type": "code",
   "execution_count": 20,
   "metadata": {},
   "outputs": [
    {
     "name": "stdout",
     "output_type": "stream",
     "text": [
      "CTGGGCTCCGGGGACACTTTGCGTTCGGGCTGGGAGCGTGCTTTCCACGA\n",
      "GACCCGAGGCCCCTGTGAAACGCAAGCCCGACCCTCGCACGAAAGGTGCT\n",
      "TCACTAGGATGCCATGGGCTCTAAAATATACAGCTATGAGTTCTCAATGT\n"
     ]
    }
   ],
   "source": [
    "print(partial_seq[:50])\n",
    "print(partial_seq.complement()[:50])\n",
    "print(partial_seq.reverse_complement()[:50])\n"
   ]
  },
  {
   "cell_type": "code",
   "execution_count": 21,
   "metadata": {},
   "outputs": [],
   "source": [
    "with open(tmp_out_file,'w') as f:\n",
    "    f.write(f\">forward_tp53_piece\\n{partial_seq}\\n\")\n",
    "    f.write(f\">reverse_tp53_piece\\n{partial_seq.reverse_complement()}\\n\")\n"
   ]
  },
  {
   "cell_type": "code",
   "execution_count": 22,
   "metadata": {},
   "outputs": [
    {
     "name": "stdout",
     "output_type": "stream",
     "text": [
      "[M::mm_idx_gen::0.001*7.85] collected minimizers\n",
      "[M::mm_idx_gen::0.002*5.01] sorted minimizers\n",
      "[M::main::0.002*4.87] loaded/built the index for 1 target sequence(s)\n",
      "[M::mm_mapopt_update::0.002*4.45] mid_occ = 14\n",
      "[M::mm_idx_stat] kmer size: 15; skip: 10; is_hpc: 0; #seq: 1\n",
      "[M::mm_idx_stat::0.002*4.12] distinct minimizers: 3289 (94.80% are singletons); average occurrences: 1.109; average spacing: 5.251; total length: 19149\n",
      "[M::worker_pipeline::0.003*3.67] mapped 2 sequences\n",
      "[M::main] Version: 2.23-r1117-dirty\n",
      "[M::main] CMD: minimap2 -ax map-ont -t 2 /home/dami/data/references/Homo_sapiens/tp53/tp53.fasta /home/dami/Software/Cycas/development_notebooks/data/tmp_fasta.fasta\n",
      "[M::main] Real time: 0.004 sec; CPU: 0.011 sec; Peak RSS: 0.078 GB\n"
     ]
    }
   ],
   "source": [
    "!minimap2 -ax map-ont -t 2 $input_fasta $tmp_out_file > test.sam\n",
    "!samtools sort -o data/sort_test.bam test.sam\n",
    "!samtools index data/sort_test.bam\n",
    "!rm test.sam\n"
   ]
  },
  {
   "cell_type": "code",
   "execution_count": 23,
   "metadata": {},
   "outputs": [
    {
     "name": "stdout",
     "output_type": "stream",
     "text": [
      "forward_tp53_piece\t0\tNG_017013.2:5001-24149\t101\t60\t500M\t*\t0\t0\tCTGGGCTCCGGGGACACTTTGCGTTCGGGCTGGGAGCGTGCTTTCCACGACGGTGACACGCTTCCCTGGATTGGGTAAGCTCCTGACTGAACTTGATGAGTCCTCTCTGAGTCACGGGCTCTCGGCTCCGTGTATTTTCAGCTCGGGAAAATCGCTGGGGCTGGGGGTGGGGCAGTGGGGACTTAGCGAGTTTGGGGGTGAGTGGGATGGAAGCTTGGCTAGAGGGATCATCATAGGAGTTGCATTGTTGGGAGACCTGGGTGTAGATGATGGGGATGTTAGGACCATCCGAACTCAAAGTTGAACGCCTAGGCAGAGGAGTGGAGCTTTGGGGAACCTTGAGCCGGCCTAAAGCGTACTTCTTTGCACATCCACCCGGTGCTGGGCGTAGGGAATCCCTGAAATAAAAGATGCACAAAGCATTGAGGTCTGAGACTTTTGGATCTCGAAACATTGAGAACTCATAGCTGTATATTTTAGAGCCCATGGCATCCTAGTGA\t*\tNM:i:0\tms:i:1000\tAS:i:1000\tnn:i:0\ttp:A:P\tcm:i:86\ts1:i:476\ts2:i:0\tde:f:0\trl:i:0\n",
      "reverse_tp53_piece\t16\tNG_017013.2:5001-24149\t101\t60\t500M\t*\t0\t0\tCTGGGCTCCGGGGACACTTTGCGTTCGGGCTGGGAGCGTGCTTTCCACGACGGTGACACGCTTCCCTGGATTGGGTAAGCTCCTGACTGAACTTGATGAGTCCTCTCTGAGTCACGGGCTCTCGGCTCCGTGTATTTTCAGCTCGGGAAAATCGCTGGGGCTGGGGGTGGGGCAGTGGGGACTTAGCGAGTTTGGGGGTGAGTGGGATGGAAGCTTGGCTAGAGGGATCATCATAGGAGTTGCATTGTTGGGAGACCTGGGTGTAGATGATGGGGATGTTAGGACCATCCGAACTCAAAGTTGAACGCCTAGGCAGAGGAGTGGAGCTTTGGGGAACCTTGAGCCGGCCTAAAGCGTACTTCTTTGCACATCCACCCGGTGCTGGGCGTAGGGAATCCCTGAAATAAAAGATGCACAAAGCATTGAGGTCTGAGACTTTTGGATCTCGAAACATTGAGAACTCATAGCTGTATATTTTAGAGCCCATGGCATCCTAGTGA\t*\tNM:i:0\tms:i:1000\tAS:i:1000\tnn:i:0\ttp:A:P\tcm:i:86\ts1:i:476\ts2:i:0\tde:f:0\trl:i:0\n"
     ]
    }
   ],
   "source": [
    "!samtools view data/sort_test.bam"
   ]
  },
  {
   "cell_type": "markdown",
   "metadata": {},
   "source": [
    "Great this works"
   ]
  }
 ],
 "metadata": {
  "interpreter": {
   "hash": "37115096f317fbdcf828b33220690c5217714b3c9ceb087b630c76f6df8c12bf"
  },
  "kernelspec": {
   "display_name": "Python 3.9.10 ('cycas')",
   "language": "python",
   "name": "python3"
  },
  "language_info": {
   "codemirror_mode": {
    "name": "ipython",
    "version": 3
   },
   "file_extension": ".py",
   "mimetype": "text/x-python",
   "name": "python",
   "nbconvert_exporter": "python",
   "pygments_lexer": "ipython3",
   "version": "3.9.10"
  },
  "orig_nbformat": 4
 },
 "nbformat": 4,
 "nbformat_minor": 2
}
